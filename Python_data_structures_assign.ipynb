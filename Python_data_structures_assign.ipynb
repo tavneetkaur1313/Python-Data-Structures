{
  "nbformat": 4,
  "nbformat_minor": 0,
  "metadata": {
    "colab": {
      "provenance": []
    },
    "kernelspec": {
      "name": "python3",
      "display_name": "Python 3"
    },
    "language_info": {
      "name": "python"
    }
  },
  "cells": [
    {
      "cell_type": "markdown",
      "source": [
        "# THEORY QUESTIONS\n",
        "\n",
        "Que1. What are data structures, and why are they important?\n",
        "\n",
        "Ans-  Data structures are fundamental ways to organize and store data in a computer's memory, enabling efficient access and manipulation, and are crucial in Python for writing optimized and scalable code.Data structures bring together the data elements in a logical way and facilitate the effective use, persistence and sharing of data. They provide a formal model that describes the way the data elements are organized. Data structures are the building blocks for more sophisticated applications.\n",
        "User-defined data structures add additional functionality to Python, thereby allowing users to access, modify or preserve data in specific ways.\n",
        "\n",
        "Que2. Explain the difference between mutable and immutable data types with examples.\n",
        "\n",
        "Ans-  Mutable Data Types\n",
        "\n",
        "Definition - Data type whose values can be changed after creation.\n",
        "\n",
        "Memory Location - Retains the same memory location even after the content is modified.\n",
        "\n",
        "Performance - It is memory-efficient, as no new objects are created for frequent changes.\n",
        "\n",
        "Thread-Safety - Not inherently thread-safe. Concurrent modification can lead to unpredictable results.\n",
        "\n",
        "Use-cases - When you need to modify, add, or remove existing data frequently.\n",
        "\n",
        "Example - List, Dictionaries, Set\n",
        "\n",
        "Immutable Data Types\n",
        "\n",
        "Definition - Data types whose values can’t be changed or altered.\n",
        "\n",
        "Memory Location - Any modification results in a new object and new memory location.\n",
        "\n",
        "Performance - It might be faster in some scenarios as there’s no need to track changes.\n",
        "\n",
        "Thread-Safety - They are inherently thread-safe due to their unchangeable nature.\n",
        "\n",
        "Use-cases - When you want to ensure data remains consistent and unaltered.\n",
        "\n",
        "Example - Strings, Types, Integer\n",
        "\n",
        "Que3. What are the main differences between lists and tuples in Python?\n",
        "\n",
        "Ans- 1. Tuples are immutable objects and lists are mutable objects.\n",
        "2. Once defined, tuples have a fixed length and lists have a dynamic length.\n",
        "3. Tuples use less memory and are faster to access than to lists.\n",
        "4. Tuple syntax uses round brackets or parenthesis, and list syntax uses square brackets.\n",
        "5. A tuple is initiated with the () symbol while lists are initiated with the [] symbol.\n",
        "\n",
        "Que4.  Describe how dictionaries store data.\n",
        "\n",
        "Ans- Dictionaries in Python use a data structure called a hash table.Each item in a dictionary is a key-value pair.\n",
        "Python stores:\n",
        "my_dict = {'name': 'Alice', 'age': 30}\n",
        "\n",
        "-> The key (e.g., 'name')\n",
        "\n",
        "-> The value (e.g., 'Alice')\n",
        "\n",
        "-> And the hash of the key (used to determine where to store the data).\n",
        "\n",
        "HOW THE HASH  TABLE WORKS\n",
        "\n",
        "-> Hashing the Key- Python calls the hash() function on the key.\n",
        "\n",
        "hash('name')  # → some integer like 234852385\n",
        "\n",
        "-> Index Calculation - The hash is used to determine an index in an underlying array (bucket list).\n",
        "\n",
        "-> Storing the Pair - The key-value pair is stored at that calculated position.\n",
        "\n",
        "\n",
        "\n",
        "Que5. Why might you use a set instead of a list in Python?\n",
        "\n",
        "Ans- Because sets cannot have multiple occurrences of the same element, it makes sets highly useful to efficiently remove duplicate values from a list or tuple and to perform common math operations like unions and intersections.\n",
        "\n",
        "Que6.  What is a string in Python, and how is it different from a list?\n",
        "\n",
        "Ans - 1. In Python, a string is an immutable sequence of characters enclosed in single or double quotes, while a list is a mutable, ordered collection of items (which can be of any data type) enclosed in square brackets.\n",
        "\n",
        "2. String methods like upper(), lower(), and replace() are tailored for text processing, while list methods like append(), remove(), and sort(), and copy() are specific to working with collections of items.\n",
        "\n",
        "3. Strings can be indexed and sliced to access individual characters or substrings, while lists can be accessed using indices to retrieve or modify elements.\n",
        "\n",
        "Que7.  How do tuples ensure data integrity in Python?\n",
        "\n",
        "Ans-  Tuples are immutable to ensure that their contents remain constant throughout their lifecycle, guaranteeing data integrity and reliability. This immutability allows tuples to be used as keys in dictionaries and elements in sets, as they can be hashed.\n",
        "The immutability of tuples ensures that the data remains consistent throughout the program, reducing the risk of bugs caused by unintended modifications.\n",
        "\n",
        "Que8.  What is a hash table, and how does it relate to dictionaries in Python?\n",
        "\n",
        "Ans-  A hash table is a data structure that stores key-value pairs, using a hash function to map keys to specific locations (buckets) for fast retrieval, and Python dictionaries are implemented using hash tables.\n",
        "\n",
        "The hash function takes a key as input and produces a hash code (typically an integer) that is used to find the correct location in the table.This allows for very fast lookups, insertions, and deletions, typically in constant time (O(1)) on average.\n",
        "\n",
        "Relation to Python dictionaries\n",
        "\n",
        "In Python, dictionaries are a built-in data type that uses hash tables as their underlying implementation.\n",
        "When you create a dictionary and add key-value pairs, Python uses a hash function to determine where to store each pair in the hash table.\n",
        "The keys in a dictionary must be hashable (i.e., they must have a hash code).\n",
        "When you look up a value in a dictionary, Python uses the hash code of the key to quickly find the corresponding value in the hash table.\n"
      ],
      "metadata": {
        "id": "ZZJMTngBEdtF"
      }
    },
    {
      "cell_type": "code",
      "source": [
        "#Example\n",
        "my_dict = {\"apple\": 1, \"banana\": 2, \"cherry\": 3} # Dictionary (hash table)\n",
        "print(my_dict[\"apple\"]) # Accessing a value using the key (constant time)"
      ],
      "metadata": {
        "colab": {
          "base_uri": "https://localhost:8080/"
        },
        "id": "9i7vkB8ugcm8",
        "outputId": "b6934854-c7de-43fa-fb6f-0a4e441202ba"
      },
      "execution_count": 2,
      "outputs": [
        {
          "output_type": "stream",
          "name": "stdout",
          "text": [
            "1\n"
          ]
        }
      ]
    },
    {
      "cell_type": "markdown",
      "source": [
        "Que9. Can lists contain different data types in Python?\n",
        "\n",
        "Ans-  Although it's not really common, a list can also contain a mix of Python types including strings, floats, and booleans."
      ],
      "metadata": {
        "id": "Bi1vJCURgjbw"
      }
    },
    {
      "cell_type": "code",
      "source": [
        "#Example\n",
        "my_list = [\"apple\", 3.14, True]\n",
        "print(my_list)"
      ],
      "metadata": {
        "colab": {
          "base_uri": "https://localhost:8080/"
        },
        "id": "t712y9kAhu7h",
        "outputId": "67f7b192-ea62-4be9-ae7e-6ef3ca822ec8"
      },
      "execution_count": 4,
      "outputs": [
        {
          "output_type": "stream",
          "name": "stdout",
          "text": [
            "['apple', 3.14, True]\n"
          ]
        }
      ]
    },
    {
      "cell_type": "markdown",
      "source": [
        "Que10.  Explain why strings are immutable in Python.\n",
        "\n",
        "Ans- It prevents many dumb mistakes, for one, and since immutable types' methods return new instances, method chaining is not only possible but easy and \"safe\". Say strings were mutable. You could no longer use them as dictionary keys, which would make JSON parsing much more annoying and less intuitive."
      ],
      "metadata": {
        "id": "1R4RTJGHh4D-"
      }
    },
    {
      "cell_type": "code",
      "source": [
        "#Example\n",
        "my_string = \"hello\"\n",
        "    # my_string[0] = 'H'  # This will raise an error because strings are immutable\n",
        "    new_string = my_string + \" world\" # A new string is created, not modifying the original\n",
        "    print(new_string)"
      ],
      "metadata": {
        "colab": {
          "base_uri": "https://localhost:8080/",
          "height": 106
        },
        "id": "wrtcpbKCiLHN",
        "outputId": "2c5f7c39-73d2-4911-fe4c-b954507bf02f"
      },
      "execution_count": 6,
      "outputs": [
        {
          "output_type": "error",
          "ename": "IndentationError",
          "evalue": "unexpected indent (<ipython-input-6-47918cab12f7>, line 4)",
          "traceback": [
            "\u001b[0;36m  File \u001b[0;32m\"<ipython-input-6-47918cab12f7>\"\u001b[0;36m, line \u001b[0;32m4\u001b[0m\n\u001b[0;31m    new_string = my_string + \" world\" # A new string is created, not modifying the original\u001b[0m\n\u001b[0m    ^\u001b[0m\n\u001b[0;31mIndentationError\u001b[0m\u001b[0;31m:\u001b[0m unexpected indent\n"
          ]
        }
      ]
    },
    {
      "cell_type": "markdown",
      "source": [
        "Que11. What advantages do dictionaries offer over lists for certain tasks?\n",
        "\n",
        "Ans- Dictionaries excel over lists in Python for tasks involving fast lookups and storing data as key-value pairs, offering O(1) average-time complexity for access compared to lists' O(n).\n",
        "1. Fast Lookups- Dictionaries use a hash table, allowing for extremely quick access to values based on their keys, which is crucial for tasks requiring frequent searches or retrievals.\n",
        "\n",
        "2. Key-Value Association- Dictionaries store data as key-value pairs, making it easy to associate and retrieve related information, which is useful for mapping relationships and organizing data.\n",
        "\n",
        "3. Flexibility- Dictionaries can store any data type as both the key and the value, making them suitable for a wide range of applications, including storing complex data structures.\n",
        "\n",
        "4. Memory Efficiency- Dictionaries are memory efficient as they only store the key-value pairs needed, which is beneficial when dealing with large datasets.\n",
        "\n",
        "5. Built-in Methods- Python dictionaries offer a variety of built-in methods for easy data manipulation and iteration, such as get(), keys(), values(), and items().\n",
        "\n",
        "6. Code Readability- Dictionaries make code easier to read, particularly when dealing with key-value pairs, as it clearly represents the relationship between data elements.\n",
        "\n",
        "7. Use Cases- Dictionaries are ideal for scenarios where you need to store and retrieve data based on a unique identifier or key, such as storing user data with usernames as keys, or mapping words to their definitions.\n",
        "\n",
        "Que12. Describe a scenario where using a tuple would be preferable over a list.\n",
        "\n",
        "Ans- Tuples are used when we need to store, retrieve, and use data often but don't need to change it. Data Representation- If you want to represent collections with each element having a specific meaning, tuples are a better choice. Immutable Data- As tuples are immutable, their contents can't be changed once created.\n",
        "\n",
        "Read-intensive Operations– When the operations we perform revolve around reading data and manipulation is minimal or non-existent, we prefer tuples. It is because they are static in nature, so they are faster in iteration than lists.\n",
        "\n",
        "Memory Efficiency- Tuples are more memory efficient than lists due to their immutable nature. There is no need to allocate extra memory to accommodate potential modifications in the future, which is not the case in lists that require additional memory space for growth.\n",
        "\n",
        "Safe Data Transmission- If you need to transmit data between functions or modules, you must ensure that the receiving function doesn’t change the original data. In such a situation, tuples are a much safer option than lists.\n",
        "\n",
        "Que13. How do sets handle duplicate values in Python?\n",
        "\n",
        "Ans- Duplicate items are not allowed. In Python, sets automatically handle duplicates by storing only unique elements. If we try to add a duplicate value to a set, it simply won't be added."
      ],
      "metadata": {
        "id": "WIide3wDiQpC"
      }
    },
    {
      "cell_type": "code",
      "source": [
        "#Example\n",
        "my_set = {1, 2, 3}\n",
        "my_set.add(2)\n",
        "print(my_set)\n",
        "#As we can see, adding the element 2 again doesn't change the set because sets don't allow duplicat values. If we try adding a duplicate, it just ignores the operation."
      ],
      "metadata": {
        "colab": {
          "base_uri": "https://localhost:8080/"
        },
        "id": "iSQwt1Z0o-XR",
        "outputId": "eec87cfd-3172-4144-e325-47a4124b4e1f"
      },
      "execution_count": 7,
      "outputs": [
        {
          "output_type": "stream",
          "name": "stdout",
          "text": [
            "{1, 2, 3}\n"
          ]
        }
      ]
    },
    {
      "cell_type": "markdown",
      "source": [
        "Que14.  How does the “in” keyword work differently for lists and dictionaries?\n",
        "\n",
        "Ans- FOR LISTS\n",
        "\n",
        "The \"in\" keyword checks if a value exisits in the list. It checks for the presence of the element itself, not  its index.\n",
        "\n",
        "FOR DICTIONARIES\n",
        "\n",
        "The \"in\" keyword checks for the keys in the dicionary, not the values. It checks if a particular key is in the dictionary, not the associated value."
      ],
      "metadata": {
        "id": "BrXTS2uKpdVM"
      }
    },
    {
      "cell_type": "code",
      "source": [
        "#Lists example\n",
        "my_list = [1, 2, 3, 4, 5]\n",
        "print(3 in my_list)\n",
        "print(6 in my_list)"
      ],
      "metadata": {
        "colab": {
          "base_uri": "https://localhost:8080/"
        },
        "id": "3kbDGPa-q_ub",
        "outputId": "8a3a85dc-d4f3-462f-b156-904e21b0e8c6"
      },
      "execution_count": 8,
      "outputs": [
        {
          "output_type": "stream",
          "name": "stdout",
          "text": [
            "True\n",
            "False\n"
          ]
        }
      ]
    },
    {
      "cell_type": "code",
      "source": [
        "#Dictionary example\n",
        "my_dict = {'a': 1, 'b': 2, 'c': 3}\n",
        "print('a' in my_dict)\n",
        "print('d' in my_dict)"
      ],
      "metadata": {
        "colab": {
          "base_uri": "https://localhost:8080/"
        },
        "id": "VoCv6djdrHJf",
        "outputId": "b594d769-145d-4015-d88d-b56ce77ef336"
      },
      "execution_count": 9,
      "outputs": [
        {
          "output_type": "stream",
          "name": "stdout",
          "text": [
            "True\n",
            "False\n"
          ]
        }
      ]
    },
    {
      "cell_type": "markdown",
      "source": [
        "Que15. Can you modify the elements of a tuple? Explain why or why not.\n",
        "\n",
        "Ans-  No, we cannot directly modify the elements of a tuple in Python because tuples are immutable, meaning their contents cannot be changed after creation.\n",
        "\n",
        "Why Immutability?\n",
        "\n",
        "Immutability provides several benefits:\n",
        "Data Integrity: Ensuring that the data within a tuple remains consistent and predictable.\n",
        "\n",
        "Hashing: Immutable objects can be used as keys in dictionaries (hash tables) because their hash values do not change.\n",
        "\n",
        "Efficiency: Python can optimize operations on immutable objects, as it knows their contents will not change.\n",
        "\n",
        "If you need a data structure that allows modification, use a list instead of a tuple. You can convert a tuple to a list, make changes, and then convert it back to a tuple if needed."
      ],
      "metadata": {
        "id": "-GOID2O_rOIf"
      }
    },
    {
      "cell_type": "code",
      "source": [
        "    my_tuple = (1, 2, 3)\n",
        "    # Attempting to modify a tuple element will raise a TypeError\n",
        "    # my_tuple[0] = 4  # This will cause an error"
      ],
      "metadata": {
        "id": "fNOVerjXr1DF"
      },
      "execution_count": null,
      "outputs": []
    },
    {
      "cell_type": "markdown",
      "source": [
        "Que16. What is a nested dictionary, and give an example of its use case ?\n",
        "\n",
        "Ans - In Python, a nested dictionary is a dictionary where the values are themselves dictionaries, allowing for hierarchical data structures. It refers to a dictionary where the value of one or more keys is another dictionary. This structure allows you to represent more complex data hierarchies and relationships.\n",
        "\n",
        "USE CASE\n",
        "\n",
        "A nested dictionary is useful for situations where you have multiple attributes that belong to specific categories or items. In this case, it's handy for organizing data about students. Each student has specific details (name, age, courses) that can be efficiently managed using a nested dictionary.\n",
        "\n",
        "A real-world use case could be in an application that manages student information, and you want to store each student's name, age, and enrolled courses in a structured way."
      ],
      "metadata": {
        "id": "FTLZqJkxr5BR"
      }
    },
    {
      "cell_type": "code",
      "source": [
        "students = {\n",
        "    'student1': {\n",
        "        'name': 'Alice',\n",
        "        'age': 22,\n",
        "        'courses': ['Math', 'Science', 'English']\n",
        "    },\n",
        "    'student2': {\n",
        "        'name': 'Bob',\n",
        "        'age': 23,\n",
        "        'courses': ['History', 'Math', 'Art']\n",
        "    },\n",
        "    'student3': {\n",
        "        'name': 'Charlie',\n",
        "        'age': 21,\n",
        "        'courses': ['Physics', 'Chemistry', 'Math']\n",
        "    }\n",
        "}\n",
        "\n",
        "#Accessing values\n",
        "\n",
        "# Get Bob's age\n",
        "print(students['student2']['age'])  # Output: 23\n",
        "\n",
        "# Get the courses of Alice\n",
        "print(students['student1']['courses'])  # Output: ['Math', 'Science', 'English']\n",
        "\n"
      ],
      "metadata": {
        "colab": {
          "base_uri": "https://localhost:8080/"
        },
        "id": "ZP2waMb1zFoK",
        "outputId": "cd82e76b-93e2-4665-d95d-d444c46ca500"
      },
      "execution_count": 11,
      "outputs": [
        {
          "output_type": "stream",
          "name": "stdout",
          "text": [
            "23\n",
            "['Math', 'Science', 'English']\n"
          ]
        }
      ]
    },
    {
      "cell_type": "markdown",
      "source": [
        "Que17. Describe the time complexity of accessing elements in a dictionary.\n",
        "\n",
        "Ans-  Similar to the insertion operation, dictionary lookups in Python also have an average time complexity of O(1). This means that, on average, the time taken to retrieve an element from a dictionary is constant and does not depend on the size of the dictionary.This efficiency is due to the hash table implementation used in Python dictionaries, which allows for fast key-value pair retrieval.\n",
        "\n",
        "Que18. In what situations are lists preferred over dictionaries?\n",
        "\n",
        "Ans - Use Cases: If you need an ordered collection, like a sequence of user actions, lists are your go-to. On the other hand, when you need quick look-ups, like mapping usernames to user data, dictionaries are invaluable.\n",
        "\n",
        "We would prefer to use a list over a dictionary in the following cases:\n",
        "\n",
        "1. When the order of elements is important.\n",
        "\n",
        "2. When we need a simple collection of items without the need for key-value pairs.\n",
        "\n",
        "3. When we need to access elements by their index.\n",
        "\n",
        "4. When we want to perform operations like sorting, slicing, or iterating.\n",
        "\n",
        "5. When the data is homogeneous (all of the same type).\n",
        "\n",
        "6. When we need to iterate over elements sequentially.\n",
        "\n",
        "Dictionaries are ideal when we need key-value pairs and want fast access to values based on a unique identifier (the key). For situations where indexing and order are essential but key-value mapping is not required, lists are often the better choice.\n",
        "\n",
        "Que19.  Why are dictionaries considered unordered, and how does that affect data retrieval?\n",
        "\n",
        "Ans-  A dictionary is termed an unordered collection of objects because dictionaries do not maintain any inherent order of the items based on when they were added. In older versions of Python (before 3.7), dictionaries did not preserve insertion order at all.\n",
        "\n",
        "HOW DOES THAT AFFECT DATA RETRIEVAL?\n",
        "\n",
        "Even when dictionaries were unordered, data retrieval by key was always efficient because:\n",
        "\n",
        "They use a hash table under the hood.\n",
        "\n",
        "This means retrieval is O(1) on average — very fast!\n",
        "\n",
        "So whether the dictionary maintains order or not, accessing a value via my_dict[key] is unaffected.\n",
        "\n",
        "However, ordering does matter when:\n",
        "\n",
        "You iterate over the dictionary (e.g., for key in my_dict:).\n",
        "\n",
        "You display it or convert it to a list.\n",
        "\n",
        "You want to compare two dictionaries for equality including order"
      ],
      "metadata": {
        "id": "FeqReI4Vzap0"
      }
    },
    {
      "cell_type": "code",
      "source": [
        "#EXAMPLE\n",
        "# Python 3.7+ (Ordered)\n",
        "my_dict = {'a': 1, 'b': 2, 'c': 3}\n",
        "print(my_dict)  # {'a': 1, 'b': 2, 'c': 3}\n",
        "\n",
        "# Access by key (unordered or ordered doesn’t affect this)\n",
        "print(my_dict['b'])  # 2\n",
        "\n",
        "# Iteration preserves insertion order now\n",
        "for key in my_dict:\n",
        "    print(key)  # a b c\n"
      ],
      "metadata": {
        "colab": {
          "base_uri": "https://localhost:8080/"
        },
        "id": "rtlR7Vck24E1",
        "outputId": "908442e4-dd4d-445f-cd89-c085daf72734"
      },
      "execution_count": 12,
      "outputs": [
        {
          "output_type": "stream",
          "name": "stdout",
          "text": [
            "{'a': 1, 'b': 2, 'c': 3}\n",
            "2\n",
            "a\n",
            "b\n",
            "c\n"
          ]
        }
      ]
    },
    {
      "cell_type": "markdown",
      "source": [
        "Que20. Explain the difference between a list and a dictionary in terms of data retrieval.\n",
        "\n",
        "Ans -  list is an ordered collection of elements, and you retrieve data by index.\n",
        "\n",
        "Data Retrieval:\n",
        "\n",
        "-> Access is by position (e.g., my_list[0])\n",
        "\n",
        "-> Fast when you know the index\n",
        "\n",
        "-> Time complexity: O(1) for direct index access\n",
        "\n",
        "-> O(n) if you're searching for a specific value (like finding 'banana' in the list)\n",
        "\n",
        "A dictionary is an unordered (in older versions), now ordered (in Python 3.7+) collection of key-value pairs. You retrieve data by key, not by position.\n",
        "\n",
        "Data Retrieval:\n",
        "\n",
        "-> Access is by key (e.g., my_dict['fruit'])\n",
        "\n",
        "-> Very fast lookups using hashing\n",
        "\n",
        "-> Time complexity: O(1) on average for key access\n",
        "\n",
        "-> No need to search — just provide the key"
      ],
      "metadata": {
        "id": "uMGZbSji29AH"
      }
    },
    {
      "cell_type": "code",
      "source": [
        "fruits = ['apple', 'banana', 'cherry']\n",
        "print(fruits[1])  #Lists Example\n",
        "\n",
        "fruit_info = {'fruit': 'banana', 'color': 'yellow'}\n",
        "print(fruit_info['fruit'])  # Dictionary Example\n",
        "\n"
      ],
      "metadata": {
        "colab": {
          "base_uri": "https://localhost:8080/"
        },
        "id": "rY5ep06RFRl9",
        "outputId": "5435d4c5-1775-4d64-a01d-9f65fe24e312"
      },
      "execution_count": 1,
      "outputs": [
        {
          "output_type": "stream",
          "name": "stdout",
          "text": [
            "banana\n",
            "banana\n"
          ]
        }
      ]
    },
    {
      "cell_type": "markdown",
      "source": [
        "# PRACTICAL QUESTIONS\n",
        "\n",
        "Que1. Write a code to create a string with your name and print it.\n"
      ],
      "metadata": {
        "id": "CmLDT_Lx4mPd"
      }
    },
    {
      "cell_type": "code",
      "source": [
        "# Create a string with the name\n",
        "name = \"Your Name\"\n",
        "\n",
        "# Print the string\n",
        "print(name)\n",
        "\n",
        "name = \"Tavneet Kaur\"\n",
        "print(name)"
      ],
      "metadata": {
        "colab": {
          "base_uri": "https://localhost:8080/"
        },
        "id": "i8GEqTDZ4z8c",
        "outputId": "2c0ab2ba-2f92-43af-dad8-a3ff5d8c1067"
      },
      "execution_count": 14,
      "outputs": [
        {
          "output_type": "stream",
          "name": "stdout",
          "text": [
            "Your Name\n",
            "Tavneet Kaur\n"
          ]
        }
      ]
    },
    {
      "cell_type": "markdown",
      "source": [
        "Que2. Write a code to find the length of the string \"Hello World\"."
      ],
      "metadata": {
        "id": "e7z5u64n5AG8"
      }
    },
    {
      "cell_type": "code",
      "source": [
        "# Define the string\n",
        "my_string = \"Hello World\"\n",
        "\n",
        "# Find the length of the string\n",
        "length_of_string = len(my_string)\n",
        "\n",
        "# Print the length\n",
        "print(\"The length of the string is:\", length_of_string)"
      ],
      "metadata": {
        "colab": {
          "base_uri": "https://localhost:8080/"
        },
        "id": "UfkZR5QW5I7j",
        "outputId": "aa4718f9-1efe-4eab-a6a5-b5114e45840b"
      },
      "execution_count": 15,
      "outputs": [
        {
          "output_type": "stream",
          "name": "stdout",
          "text": [
            "The length of the string is: 11\n"
          ]
        }
      ]
    },
    {
      "cell_type": "markdown",
      "source": [
        "Que3. Write a code to slice the first 3 characters from the string \"Python Programming\"."
      ],
      "metadata": {
        "id": "ey06K-Vc5LM7"
      }
    },
    {
      "cell_type": "code",
      "source": [
        "# Define the string\n",
        "my_string = \"Python Programming\"\n",
        "\n",
        "# Slice the first 3 characters\n",
        "sliced_string = my_string[:3]\n",
        "\n",
        "# Print the sliced string\n",
        "print(\"The first 3 characters are:\", sliced_string)"
      ],
      "metadata": {
        "colab": {
          "base_uri": "https://localhost:8080/"
        },
        "id": "wvc15ykq5OyL",
        "outputId": "af3ee96b-5a13-4249-f990-6857e258c006"
      },
      "execution_count": 16,
      "outputs": [
        {
          "output_type": "stream",
          "name": "stdout",
          "text": [
            "The first 3 characters are: Pyt\n"
          ]
        }
      ]
    },
    {
      "cell_type": "markdown",
      "source": [
        "4. Write a code to convert the string \"hello\" to uppercase."
      ],
      "metadata": {
        "id": "Ef9llzq35WiK"
      }
    },
    {
      "cell_type": "code",
      "source": [
        "# Define the string\n",
        "my_string = \"hello\"\n",
        "\n",
        "# Convert the string to uppercase\n",
        "uppercase_string = my_string.upper()\n",
        "\n",
        "# Print the uppercase string\n",
        "print(\"The uppercase string is:\", uppercase_string)"
      ],
      "metadata": {
        "colab": {
          "base_uri": "https://localhost:8080/"
        },
        "id": "B3WOTmZ95Z_6",
        "outputId": "8246c385-ee29-46a1-c0cc-0e2b769cee70"
      },
      "execution_count": 18,
      "outputs": [
        {
          "output_type": "stream",
          "name": "stdout",
          "text": [
            "The uppercase string is: HELLO\n"
          ]
        }
      ]
    },
    {
      "cell_type": "markdown",
      "source": [
        "Que5. Write a code to replace the word \"apple\" with \"orange\" in the string \"I like apple\"."
      ],
      "metadata": {
        "id": "DdlJ0QVd505Y"
      }
    },
    {
      "cell_type": "code",
      "source": [
        "# Define the original string\n",
        "original_string = \"I like apple\"\n",
        "\n",
        "# Replace \"apple\" with \"orange\"\n",
        "modified_string = original_string.replace(\"apple\", \"orange\")\n",
        "\n",
        "# Print the modified string\n",
        "print(\"The modified string is:\", modified_string)"
      ],
      "metadata": {
        "colab": {
          "base_uri": "https://localhost:8080/"
        },
        "id": "Hj6bqjAJ55tS",
        "outputId": "300d881f-98d8-4ae4-9508-d5b5c4d7a0d8"
      },
      "execution_count": 19,
      "outputs": [
        {
          "output_type": "stream",
          "name": "stdout",
          "text": [
            "The modified string is: I like orange\n"
          ]
        }
      ]
    },
    {
      "cell_type": "markdown",
      "source": [
        "Que6.  Write a code to create a list with numbers 1 to 5 and print it."
      ],
      "metadata": {
        "id": "Pvm7kQGZ6Dr-"
      }
    },
    {
      "cell_type": "code",
      "source": [
        "# Create a list with numbers from 1 to 5\n",
        "number_list = list(range(1, 6))\n",
        "\n",
        "# Print the list\n",
        "print(\"The list of numbers from 1 to 5 is:\", number_list)"
      ],
      "metadata": {
        "colab": {
          "base_uri": "https://localhost:8080/"
        },
        "id": "MV5eOsAp6IUM",
        "outputId": "c11fbba2-206e-49b6-dfd2-83bd1a9645e0"
      },
      "execution_count": 20,
      "outputs": [
        {
          "output_type": "stream",
          "name": "stdout",
          "text": [
            "The list of numbers from 1 to 5 is: [1, 2, 3, 4, 5]\n"
          ]
        }
      ]
    },
    {
      "cell_type": "markdown",
      "source": [
        "Que7.  Write a code to append the number 10 to the list [1, 2, 3, 4]."
      ],
      "metadata": {
        "id": "H7M8zeSD6P_z"
      }
    },
    {
      "cell_type": "code",
      "source": [
        "# Define the original list\n",
        "my_list = [1, 2, 3, 4]\n",
        "\n",
        "# Append the number 10 to the list\n",
        "my_list.append(10)\n",
        "\n",
        "# Print the modified list\n",
        "print(\"The modified list is:\", my_list)"
      ],
      "metadata": {
        "colab": {
          "base_uri": "https://localhost:8080/"
        },
        "id": "AVSxidjV6ULi",
        "outputId": "ee0afdac-814f-490b-bdcc-5cae90d4310a"
      },
      "execution_count": 21,
      "outputs": [
        {
          "output_type": "stream",
          "name": "stdout",
          "text": [
            "The modified list is: [1, 2, 3, 4, 10]\n"
          ]
        }
      ]
    },
    {
      "cell_type": "markdown",
      "source": [
        "Que8. Write a code to remove the number 3 from the list [1, 2, 3, 4, 5]."
      ],
      "metadata": {
        "id": "XKm_WQmL6hoC"
      }
    },
    {
      "cell_type": "code",
      "source": [
        "# Define the original list\n",
        "my_list = [1, 2, 3, 4, 5]\n",
        "\n",
        "# Remove the number 3 from the list\n",
        "my_list.remove(3)\n",
        "\n",
        "# Print the modified list\n",
        "print(\"The modified list is:\", my_list)"
      ],
      "metadata": {
        "colab": {
          "base_uri": "https://localhost:8080/"
        },
        "id": "g1Mqj6hp6lwc",
        "outputId": "90b36c80-c9c6-45ee-fedb-ceac8caeb278"
      },
      "execution_count": 22,
      "outputs": [
        {
          "output_type": "stream",
          "name": "stdout",
          "text": [
            "The modified list is: [1, 2, 4, 5]\n"
          ]
        }
      ]
    },
    {
      "cell_type": "markdown",
      "source": [
        "Que9. Write a code to access the second element in the list ['a', 'b', 'c', 'd']."
      ],
      "metadata": {
        "id": "pMSFpgOm68m-"
      }
    },
    {
      "cell_type": "code",
      "source": [
        "# Define the list\n",
        "my_list = ['a', 'b', 'c', 'd']\n",
        "\n",
        "# Access the second element (index 1)\n",
        "second_element = my_list[1]\n",
        "\n",
        "# Print the second element\n",
        "print(\"The second element is:\", second_element)"
      ],
      "metadata": {
        "colab": {
          "base_uri": "https://localhost:8080/"
        },
        "id": "K2st3lNj7Bo-",
        "outputId": "8366ed3d-83d1-4d59-e44a-9a407f6a8cbe"
      },
      "execution_count": 23,
      "outputs": [
        {
          "output_type": "stream",
          "name": "stdout",
          "text": [
            "The second element is: b\n"
          ]
        }
      ]
    },
    {
      "cell_type": "markdown",
      "source": [
        "Que10. Write a code to reverse the list [10, 20, 30, 40, 50]."
      ],
      "metadata": {
        "id": "B09EhP8Y7KDj"
      }
    },
    {
      "cell_type": "code",
      "source": [
        "# Using reverse() method\n",
        "# Define the original list\n",
        "my_list = [10, 20, 30, 40, 50]\n",
        "\n",
        "# Reverse the list in place\n",
        "my_list.reverse()\n",
        "\n",
        "# Print the reversed list\n",
        "print(\"The reversed list is:\", my_list)"
      ],
      "metadata": {
        "colab": {
          "base_uri": "https://localhost:8080/"
        },
        "id": "CUNmwyQy7PCW",
        "outputId": "3fd2e0cb-c956-48ad-bdb3-02bbf465c252"
      },
      "execution_count": 24,
      "outputs": [
        {
          "output_type": "stream",
          "name": "stdout",
          "text": [
            "The reversed list is: [50, 40, 30, 20, 10]\n"
          ]
        }
      ]
    },
    {
      "cell_type": "code",
      "source": [
        "# Using slicing\n",
        "# Define the original list\n",
        "my_list = [10, 20, 30, 40, 50]\n",
        "\n",
        "# Reverse the list using slicing\n",
        "reversed_list = my_list[::-1]\n",
        "\n",
        "# Print the reversed list\n",
        "print(\"The reversed list is:\", reversed_list)"
      ],
      "metadata": {
        "colab": {
          "base_uri": "https://localhost:8080/"
        },
        "id": "v_VrBDcB7ncp",
        "outputId": "40621e2c-7eb5-46b9-da67-f5bb7c8f56da"
      },
      "execution_count": 25,
      "outputs": [
        {
          "output_type": "stream",
          "name": "stdout",
          "text": [
            "The reversed list is: [50, 40, 30, 20, 10]\n"
          ]
        }
      ]
    },
    {
      "cell_type": "markdown",
      "source": [
        "Que11. Write a code to create a tuple with the elements 100, 200, 300 and print it."
      ],
      "metadata": {
        "id": "qqMimuzJ7tdi"
      }
    },
    {
      "cell_type": "code",
      "source": [
        "# Create a tuple with the elements 100, 200, 300\n",
        "my_tuple = (100, 200, 300)\n",
        "\n",
        "# Print the tuple\n",
        "print(\"The tuple is:\", my_tuple)"
      ],
      "metadata": {
        "colab": {
          "base_uri": "https://localhost:8080/"
        },
        "id": "F5whpAfb70fA",
        "outputId": "61cdcf54-03b4-44c2-9f08-27db54a82a5c"
      },
      "execution_count": 26,
      "outputs": [
        {
          "output_type": "stream",
          "name": "stdout",
          "text": [
            "The tuple is: (100, 200, 300)\n"
          ]
        }
      ]
    },
    {
      "cell_type": "markdown",
      "source": [
        "Que12. Write a code to access the second-to-last element of the tuple ('red', 'green', 'blue', 'yellow')."
      ],
      "metadata": {
        "id": "wUO6V8mO781X"
      }
    },
    {
      "cell_type": "code",
      "source": [
        "# Define the tuple\n",
        "my_tuple = ('red', 'green', 'blue', 'yellow')\n",
        "\n",
        "# Access the second-to-last element\n",
        "second_to_last_element = my_tuple[-2]\n",
        "\n",
        "# Print the second-to-last element\n",
        "print(\"The second-to-last element is:\", second_to_last_element)"
      ],
      "metadata": {
        "colab": {
          "base_uri": "https://localhost:8080/"
        },
        "id": "HodU2SXe8AjM",
        "outputId": "a4e821ed-8457-4698-a39e-6b1c42b55ad8"
      },
      "execution_count": 27,
      "outputs": [
        {
          "output_type": "stream",
          "name": "stdout",
          "text": [
            "The second-to-last element is: blue\n"
          ]
        }
      ]
    },
    {
      "cell_type": "markdown",
      "source": [
        "Que13. Write a code to find the minimum number in the tuple (10, 20, 5, 15)."
      ],
      "metadata": {
        "id": "ict17hs_8HBi"
      }
    },
    {
      "cell_type": "code",
      "source": [
        "# Define the tuple\n",
        "my_tuple = (10, 20, 5, 15)\n",
        "\n",
        "# Find the minimum number in the tuple\n",
        "minimum_number = min(my_tuple)\n",
        "\n",
        "# Print the minimum number\n",
        "print(\"The minimum number in the tuple is:\", minimum_number)"
      ],
      "metadata": {
        "colab": {
          "base_uri": "https://localhost:8080/"
        },
        "id": "ldb4_Ik88T0D",
        "outputId": "204df4c1-1b84-4cac-f320-ee872523243f"
      },
      "execution_count": 29,
      "outputs": [
        {
          "output_type": "stream",
          "name": "stdout",
          "text": [
            "The minimum number in the tuple is: 5\n"
          ]
        }
      ]
    },
    {
      "cell_type": "markdown",
      "source": [
        "Que14. Write a code to find the index of the element \"cat\" in the tuple ('dog', 'cat', 'rabbit')."
      ],
      "metadata": {
        "id": "m2hiqHkq8bBb"
      }
    },
    {
      "cell_type": "code",
      "source": [
        "# Define the tuple\n",
        "my_tuple = ('dog', 'cat', 'rabbit')\n",
        "\n",
        "# Find the index of the element \"cat\"\n",
        "index_of_cat = my_tuple.index('cat')\n",
        "\n",
        "# Print the index\n",
        "print(\"The index of 'cat' in the tuple is:\", index_of_cat)"
      ],
      "metadata": {
        "colab": {
          "base_uri": "https://localhost:8080/"
        },
        "id": "PDe1d0pQ8lGN",
        "outputId": "3ee66bde-a95e-437b-b022-ef3198a06844"
      },
      "execution_count": 30,
      "outputs": [
        {
          "output_type": "stream",
          "name": "stdout",
          "text": [
            "The index of 'cat' in the tuple is: 1\n"
          ]
        }
      ]
    },
    {
      "cell_type": "markdown",
      "source": [
        "Que15.  Write a code to create a tuple containing three different fruits and check if \"kiwi\" is in it."
      ],
      "metadata": {
        "id": "vjT6bEVx8pgX"
      }
    },
    {
      "cell_type": "code",
      "source": [
        "# Create a tuple containing three different fruits\n",
        "fruits = ('apple', 'banana', 'orange')\n",
        "\n",
        "# Check if \"kiwi\" is in the tuple\n",
        "is_kiwi_in_tuple = 'kiwi' in fruits\n",
        "\n",
        "# Print the result\n",
        "print(\"Is 'kiwi' in the tuple?\", is_kiwi_in_tuple)"
      ],
      "metadata": {
        "colab": {
          "base_uri": "https://localhost:8080/"
        },
        "id": "IDdkaORa89jH",
        "outputId": "238b16ed-abd6-4782-846a-ffb8265c4d4e"
      },
      "execution_count": 31,
      "outputs": [
        {
          "output_type": "stream",
          "name": "stdout",
          "text": [
            "Is 'kiwi' in the tuple? False\n"
          ]
        }
      ]
    },
    {
      "cell_type": "markdown",
      "source": [
        "Que16. Write a code to create a set with the elements 'a', 'b', 'c' and print it."
      ],
      "metadata": {
        "id": "gpObYnOE8_pl"
      }
    },
    {
      "cell_type": "code",
      "source": [
        "# Create a set with the elements 'a', 'b', 'c'\n",
        "my_set = {'a', 'b', 'c'}\n",
        "\n",
        "# Print the set\n",
        "print(\"The set is:\", my_set)"
      ],
      "metadata": {
        "colab": {
          "base_uri": "https://localhost:8080/"
        },
        "id": "gPHKCeRj9O3a",
        "outputId": "b7d9a8fd-8417-4e31-812c-94062d82891a"
      },
      "execution_count": 32,
      "outputs": [
        {
          "output_type": "stream",
          "name": "stdout",
          "text": [
            "The set is: {'a', 'c', 'b'}\n"
          ]
        }
      ]
    },
    {
      "cell_type": "markdown",
      "source": [
        "Que17. Write a code to clear all elements from the set {1, 2, 3, 4, 5}."
      ],
      "metadata": {
        "id": "o5hrljNY9SND"
      }
    },
    {
      "cell_type": "code",
      "source": [
        "# Create a set with the elements 1, 2, 3, 4, 5\n",
        "my_set = {1, 2, 3, 4, 5}\n",
        "\n",
        "# Clear all elements from the set\n",
        "my_set.clear()\n",
        "\n",
        "# Print the set after clearing\n",
        "print(\"The set after clearing is:\", my_set)"
      ],
      "metadata": {
        "colab": {
          "base_uri": "https://localhost:8080/"
        },
        "id": "9d_vlzBy9YAP",
        "outputId": "4a0d93b0-ec07-4415-d11b-50dfba219617"
      },
      "execution_count": 33,
      "outputs": [
        {
          "output_type": "stream",
          "name": "stdout",
          "text": [
            "The set after clearing is: set()\n"
          ]
        }
      ]
    },
    {
      "cell_type": "markdown",
      "source": [
        "Que18. Write a code to remove the element 4 from the set {1, 2, 3, 4}."
      ],
      "metadata": {
        "id": "Od2A9R9C9f-E"
      }
    },
    {
      "cell_type": "code",
      "source": [
        "# Using remove()\n",
        "# Create a set with the elements 1, 2, 3, 4\n",
        "my_set = {1, 2, 3, 4}\n",
        "\n",
        "# Remove the element 4 from the set\n",
        "my_set.remove(4)\n",
        "\n",
        "# Print the set after removal\n",
        "print(\"The set after removing 4 using remove() is:\", my_set)"
      ],
      "metadata": {
        "colab": {
          "base_uri": "https://localhost:8080/"
        },
        "id": "GbQgs_wv9kir",
        "outputId": "096ae31c-97f7-4ed0-ab66-540624c84485"
      },
      "execution_count": 34,
      "outputs": [
        {
          "output_type": "stream",
          "name": "stdout",
          "text": [
            "The set after removing 4 using remove() is: {1, 2, 3}\n"
          ]
        }
      ]
    },
    {
      "cell_type": "code",
      "source": [
        "# Using discard()\n",
        "# Create a set with the elements 1, 2, 3, 4\n",
        "my_set = {1, 2, 3, 4}\n",
        "\n",
        "# Remove the element 4 from the set\n",
        "my_set.discard(4)\n",
        "\n",
        "# Print the set after removal\n",
        "print(\"The set after removing 4 using discard() is:\", my_set)"
      ],
      "metadata": {
        "colab": {
          "base_uri": "https://localhost:8080/"
        },
        "id": "g1sEM5Bs9wbW",
        "outputId": "12260db2-cffb-44c1-ca43-c81e5d824f3e"
      },
      "execution_count": 35,
      "outputs": [
        {
          "output_type": "stream",
          "name": "stdout",
          "text": [
            "The set after removing 4 using discard() is: {1, 2, 3}\n"
          ]
        }
      ]
    },
    {
      "cell_type": "markdown",
      "source": [
        "Que19.  Write a code to find the union of two sets {1, 2, 3} and {3, 4, 5}."
      ],
      "metadata": {
        "id": "MHzAxjSN96_F"
      }
    },
    {
      "cell_type": "code",
      "source": [
        "# Using union() method\n",
        "# Define the two sets\n",
        "set1 = {1, 2, 3}\n",
        "set2 = {3, 4, 5}\n",
        "\n",
        "# Find the union of the two sets\n",
        "union_set = set1.union(set2)\n",
        "\n",
        "# Print the result\n",
        "print(\"The union of the two sets using union() is:\", union_set)"
      ],
      "metadata": {
        "colab": {
          "base_uri": "https://localhost:8080/"
        },
        "id": "rC2gEs3X-Eao",
        "outputId": "747beaec-ad67-40ba-abf9-006aba0b110f"
      },
      "execution_count": 36,
      "outputs": [
        {
          "output_type": "stream",
          "name": "stdout",
          "text": [
            "The union of the two sets using union() is: {1, 2, 3, 4, 5}\n"
          ]
        }
      ]
    },
    {
      "cell_type": "code",
      "source": [
        "# Using '|' Operator\n",
        "# Define the two sets\n",
        "set1 = {1, 2, 3}\n",
        "set2 = {3, 4, 5}\n",
        "\n",
        "# Find the union of the two sets using the | operator\n",
        "union_set = set1 | set2\n",
        "\n",
        "# Print the result\n",
        "print(\"The union of the two sets using | operator is:\", union_set)"
      ],
      "metadata": {
        "colab": {
          "base_uri": "https://localhost:8080/"
        },
        "id": "KIs2FJyD-LII",
        "outputId": "8650d4c6-1444-4785-acdf-e99be5e4bade"
      },
      "execution_count": 37,
      "outputs": [
        {
          "output_type": "stream",
          "name": "stdout",
          "text": [
            "The union of the two sets using | operator is: {1, 2, 3, 4, 5}\n"
          ]
        }
      ]
    },
    {
      "cell_type": "markdown",
      "source": [
        "Que20. Write a code to find the intersection of two sets {1, 2, 3} and {2, 3, 4}."
      ],
      "metadata": {
        "id": "Gl0MxoYn-Z1z"
      }
    },
    {
      "cell_type": "code",
      "source": [
        "# using intersection() method\n",
        "# Define the two sets\n",
        "set1 = {1, 2, 3}\n",
        "set2 = {2, 3, 4}\n",
        "\n",
        "# Find the intersection of the two sets\n",
        "intersection_set = set1.intersection(set2)\n",
        "\n",
        "# Print the result\n",
        "print(\"The intersection of the two sets using intersection() is:\", intersection_set)"
      ],
      "metadata": {
        "colab": {
          "base_uri": "https://localhost:8080/"
        },
        "id": "088uU8s6-iIV",
        "outputId": "197c3edf-09e4-46fa-e214-093a9693e715"
      },
      "execution_count": 38,
      "outputs": [
        {
          "output_type": "stream",
          "name": "stdout",
          "text": [
            "The intersection of the two sets using intersection() is: {2, 3}\n"
          ]
        }
      ]
    },
    {
      "cell_type": "code",
      "source": [
        "# Using '&' Operator\n",
        "# Define the two sets\n",
        "set1 = {1, 2, 3}\n",
        "set2 = {2, 3, 4}\n",
        "\n",
        "# Find the intersection of the two sets using the & operator\n",
        "intersection_set = set1 & set2\n",
        "\n",
        "# Print the result\n",
        "print(\"The intersection of the two sets using & operator is:\", intersection_set)"
      ],
      "metadata": {
        "colab": {
          "base_uri": "https://localhost:8080/"
        },
        "id": "MaGXCNg5-mlU",
        "outputId": "c512c127-e9a8-4577-8e51-7217f60a622e"
      },
      "execution_count": 39,
      "outputs": [
        {
          "output_type": "stream",
          "name": "stdout",
          "text": [
            "The intersection of the two sets using & operator is: {2, 3}\n"
          ]
        }
      ]
    },
    {
      "cell_type": "markdown",
      "source": [
        "Que21.  Write a code to create a dictionary with the keys \"name\", \"age\", and \"city\", and print it."
      ],
      "metadata": {
        "id": "fl9Nhefr-ysB"
      }
    },
    {
      "cell_type": "code",
      "source": [
        "# Create a dictionary with the specified keys\n",
        "my_dict = {\n",
        "    \"name\": \"Alice\",\n",
        "    \"age\": 30,\n",
        "    \"city\": \"New York\"\n",
        "}\n",
        "\n",
        "# Print the dictionary\n",
        "print(\"The dictionary is:\", my_dict)"
      ],
      "metadata": {
        "colab": {
          "base_uri": "https://localhost:8080/"
        },
        "id": "Fiy1Xswx-0Bc",
        "outputId": "c06c7ae7-3a4a-4ed7-d93b-07f34a54c72f"
      },
      "execution_count": 40,
      "outputs": [
        {
          "output_type": "stream",
          "name": "stdout",
          "text": [
            "The dictionary is: {'name': 'Alice', 'age': 30, 'city': 'New York'}\n"
          ]
        }
      ]
    },
    {
      "cell_type": "markdown",
      "source": [
        "Que22. Write a code to add a new key-value pair \"country\": \"USA\" to the dictionary {'name': 'John', 'age': 25}."
      ],
      "metadata": {
        "id": "TDNXLqXq-7qs"
      }
    },
    {
      "cell_type": "code",
      "source": [
        "# Create the initial dictionary\n",
        "my_dict = {'name': 'John', 'age': 25}\n",
        "\n",
        "# Add a new key-value pair to the dictionary\n",
        "my_dict['country'] = 'USA'\n",
        "\n",
        "# Print the updated dictionary\n",
        "print(\"The updated dictionary is:\", my_dict)"
      ],
      "metadata": {
        "colab": {
          "base_uri": "https://localhost:8080/"
        },
        "id": "_wLtrlKJ_A5Z",
        "outputId": "30cbe20c-13a8-4679-9172-bfa5928d5083"
      },
      "execution_count": 41,
      "outputs": [
        {
          "output_type": "stream",
          "name": "stdout",
          "text": [
            "The updated dictionary is: {'name': 'John', 'age': 25, 'country': 'USA'}\n"
          ]
        }
      ]
    },
    {
      "cell_type": "markdown",
      "source": [
        "Que23. Write a code to access the value associated with the key \"name\" in the dictionary {'name': 'Alice', 'age': 30}."
      ],
      "metadata": {
        "id": "4HpqBHss_JPi"
      }
    },
    {
      "cell_type": "code",
      "source": [
        "# Using square brackets\n",
        "# Create the dictionary\n",
        "my_dict = {'name': 'Alice', 'age': 30}\n",
        "\n",
        "# Access the value associated with the key \"name\"\n",
        "name_value = my_dict['name']\n",
        "\n",
        "# Print the value\n",
        "print(\"The value associated with the key 'name' is:\", name_value)"
      ],
      "metadata": {
        "colab": {
          "base_uri": "https://localhost:8080/"
        },
        "id": "FcwxZCsW_NWp",
        "outputId": "fa012529-4536-4fc3-9b0a-19dcaa4f3f44"
      },
      "execution_count": 42,
      "outputs": [
        {
          "output_type": "stream",
          "name": "stdout",
          "text": [
            "The value associated with the key 'name' is: Alice\n"
          ]
        }
      ]
    },
    {
      "cell_type": "code",
      "source": [
        "# Using get() method\n",
        "# Create the dictionary\n",
        "my_dict = {'name': 'Alice', 'age': 30}\n",
        "\n",
        "# Access the value associated with the key \"name\" using get()\n",
        "name_value = my_dict.get('name')\n",
        "\n",
        "# Print the value\n",
        "print(\"The value associated with the key 'name' is:\", name_value)"
      ],
      "metadata": {
        "colab": {
          "base_uri": "https://localhost:8080/"
        },
        "id": "WA3sqcJF_WXC",
        "outputId": "17819e91-63ca-41bb-e8f1-cb21185e36c8"
      },
      "execution_count": 43,
      "outputs": [
        {
          "output_type": "stream",
          "name": "stdout",
          "text": [
            "The value associated with the key 'name' is: Alice\n"
          ]
        }
      ]
    },
    {
      "cell_type": "markdown",
      "source": [
        "Que24.  Write a code to remove the key \"age\" from the dictionary {'name': 'Bob', 'age': 22, 'city': 'New York'}."
      ],
      "metadata": {
        "id": "a2sMfkFb_hMX"
      }
    },
    {
      "cell_type": "code",
      "source": [
        "# Using 'del' statement\n",
        "# Create the initial dictionary\n",
        "my_dict = {'name': 'Bob', 'age': 22, 'city': 'New York'}\n",
        "\n",
        "# Remove the key \"age\" using del\n",
        "del my_dict['age']\n",
        "\n",
        "# Print the updated dictionary\n",
        "print(\"The updated dictionary after removing 'age' is:\", my_dict)"
      ],
      "metadata": {
        "colab": {
          "base_uri": "https://localhost:8080/"
        },
        "id": "FGMx1VR9_nhV",
        "outputId": "baafe3bf-d63d-46d0-d604-f4ac44e6d956"
      },
      "execution_count": 44,
      "outputs": [
        {
          "output_type": "stream",
          "name": "stdout",
          "text": [
            "The updated dictionary after removing 'age' is: {'name': 'Bob', 'city': 'New York'}\n"
          ]
        }
      ]
    },
    {
      "cell_type": "code",
      "source": [
        "# Using pop() method\n",
        "# Create the initial dictionary\n",
        "my_dict = {'name': 'Bob', 'age': 22, 'city': 'New York'}\n",
        "\n",
        "# Remove the key \"age\" using pop()\n",
        "removed_value = my_dict.pop('age')\n",
        "\n",
        "# Print the updated dictionary and the removed value\n",
        "print(\"The updated dictionary after removing 'age' is:\", my_dict)\n",
        "print(\"The removed value was:\", removed_value)"
      ],
      "metadata": {
        "colab": {
          "base_uri": "https://localhost:8080/"
        },
        "id": "1nwI8UUS_v7D",
        "outputId": "ec04bd85-5616-42dc-eb7e-69712491dfdb"
      },
      "execution_count": 45,
      "outputs": [
        {
          "output_type": "stream",
          "name": "stdout",
          "text": [
            "The updated dictionary after removing 'age' is: {'name': 'Bob', 'city': 'New York'}\n",
            "The removed value was: 22\n"
          ]
        }
      ]
    },
    {
      "cell_type": "markdown",
      "source": [
        "Que25.  Write a code to check if the key \"city\" exists in the dictionary {'name': 'Alice', 'city': 'Paris'}."
      ],
      "metadata": {
        "id": "zYO9jwai_840"
      }
    },
    {
      "cell_type": "code",
      "source": [
        "# Create the dictionary\n",
        "my_dict = {'name': 'Alice', 'city': 'Paris'}\n",
        "\n",
        "# Check if the key \"city\" exists in the dictionary\n",
        "if 'city' in my_dict:\n",
        "    print(\"The key 'city' exists in the dictionary.\")\n",
        "else:\n",
        "    print(\"The key 'city' does not exist in the dictionary.\")"
      ],
      "metadata": {
        "colab": {
          "base_uri": "https://localhost:8080/"
        },
        "id": "ibOhQB3b__QC",
        "outputId": "8a2595ac-e9e7-400b-a4aa-7920ec5081c7"
      },
      "execution_count": 46,
      "outputs": [
        {
          "output_type": "stream",
          "name": "stdout",
          "text": [
            "The key 'city' exists in the dictionary.\n"
          ]
        }
      ]
    },
    {
      "cell_type": "markdown",
      "source": [
        "Que26.  Write a code to create a list, a tuple, and a dictionary, and print them all."
      ],
      "metadata": {
        "id": "-nB8skHFADZw"
      }
    },
    {
      "cell_type": "code",
      "source": [
        "# Create a list\n",
        "my_list = [1, 2, 3, 4, 5]\n",
        "\n",
        "# Create a tuple\n",
        "my_tuple = (10, 20, 30, 40, 50)\n",
        "\n",
        "# Create a dictionary\n",
        "my_dict = {'name': 'Alice', 'age': 30, 'city': 'New York'}\n",
        "\n",
        "# Print the list, tuple, and dictionary\n",
        "print(\"The list is:\", my_list)\n",
        "print(\"The tuple is:\", my_tuple)\n",
        "print(\"The dictionary is:\", my_dict)"
      ],
      "metadata": {
        "colab": {
          "base_uri": "https://localhost:8080/"
        },
        "id": "YC5EA4NMAMpF",
        "outputId": "7622989f-f817-4f66-eb23-156e2f34cdda"
      },
      "execution_count": 47,
      "outputs": [
        {
          "output_type": "stream",
          "name": "stdout",
          "text": [
            "The list is: [1, 2, 3, 4, 5]\n",
            "The tuple is: (10, 20, 30, 40, 50)\n",
            "The dictionary is: {'name': 'Alice', 'age': 30, 'city': 'New York'}\n"
          ]
        }
      ]
    },
    {
      "cell_type": "markdown",
      "source": [
        "Que27. Write a code to create a list of 5 random numbers between 1 and 100, sort it in ascending order, and print the result.(replaced)"
      ],
      "metadata": {
        "id": "RN8F2McOASfy"
      }
    },
    {
      "cell_type": "code",
      "source": [
        "import random\n",
        "\n",
        "# Create a list of 5 random numbers between 1 and 100\n",
        "random_numbers = [random.randint(1, 100) for _ in range(5)]\n",
        "\n",
        "# Sort the list in ascending order\n",
        "random_numbers.sort()\n",
        "\n",
        "# Print the sorted list\n",
        "print(\"The sorted list of random numbers is:\", random_numbers)"
      ],
      "metadata": {
        "colab": {
          "base_uri": "https://localhost:8080/"
        },
        "id": "6RWZZjhnAiXl",
        "outputId": "e6ec86e5-4035-4f8b-c41d-846a2c56488f"
      },
      "execution_count": 48,
      "outputs": [
        {
          "output_type": "stream",
          "name": "stdout",
          "text": [
            "The sorted list of random numbers is: [37, 71, 72, 80, 92]\n"
          ]
        }
      ]
    },
    {
      "cell_type": "markdown",
      "source": [
        "Que28. Write a code to create a list with strings and print the element at the third index."
      ],
      "metadata": {
        "id": "yvKg7iy_Amfv"
      }
    },
    {
      "cell_type": "code",
      "source": [
        "# Create a list with strings\n",
        "my_list = [\"apple\", \"banana\", \"cherry\", \"date\", \"elderberry\"]\n",
        "\n",
        "# Access the element at the third index\n",
        "third_index_element = my_list[3]\n",
        "\n",
        "# Print the element at the third index\n",
        "print(\"The element at the third index is:\", third_index_element)"
      ],
      "metadata": {
        "colab": {
          "base_uri": "https://localhost:8080/"
        },
        "id": "eunhiQUnAuNc",
        "outputId": "9651dea9-dd18-47fc-f20f-cdf8ca300325"
      },
      "execution_count": 49,
      "outputs": [
        {
          "output_type": "stream",
          "name": "stdout",
          "text": [
            "The element at the third index is: date\n"
          ]
        }
      ]
    },
    {
      "cell_type": "markdown",
      "source": [
        "Que29. Write a code to combine two dictionaries into one and print the result."
      ],
      "metadata": {
        "id": "ph7J52vlA1NX"
      }
    },
    {
      "cell_type": "code",
      "source": [
        "# Using update()\n",
        "# Create two dictionaries\n",
        "dict1 = {'name': 'Alice', 'age': 30}\n",
        "dict2 = {'city': 'New York', 'country': 'USA'}\n",
        "\n",
        "# Combine the dictionaries using update()\n",
        "combined_dict = dict1.copy()  # Create a copy of dict1 to avoid modifying it\n",
        "combined_dict.update(dict2)    # Update the copy with dict2\n",
        "\n",
        "# Print the combined dictionary\n",
        "print(\"Combined dictionary using update():\", combined_dict)"
      ],
      "metadata": {
        "colab": {
          "base_uri": "https://localhost:8080/"
        },
        "id": "wpugZRguA5xD",
        "outputId": "52765f35-b3a9-459d-f7ef-6c7db8622e55"
      },
      "execution_count": 50,
      "outputs": [
        {
          "output_type": "stream",
          "name": "stdout",
          "text": [
            "Combined dictionary using update(): {'name': 'Alice', 'age': 30, 'city': 'New York', 'country': 'USA'}\n"
          ]
        }
      ]
    },
    {
      "cell_type": "code",
      "source": [
        "# Using '**' unpacking operator\n",
        "# Create two dictionaries\n",
        "dict1 = {'name': 'Alice', 'age': 30}\n",
        "dict2 = {'city': 'New York', 'country': 'USA'}\n",
        "\n",
        "# Combine the dictionaries using the unpacking operator\n",
        "combined_dict = {**dict1, **dict2}\n",
        "\n",
        "# Print the combined dictionary\n",
        "print(\"Combined dictionary using unpacking operator:\", combined_dict)"
      ],
      "metadata": {
        "colab": {
          "base_uri": "https://localhost:8080/"
        },
        "id": "drLj4H0NBI0Z",
        "outputId": "f86188a0-5f3e-4753-c631-8b112a37e967"
      },
      "execution_count": 52,
      "outputs": [
        {
          "output_type": "stream",
          "name": "stdout",
          "text": [
            "Combined dictionary using unpacking operator: {'name': 'Alice', 'age': 30, 'city': 'New York', 'country': 'USA'}\n"
          ]
        }
      ]
    },
    {
      "cell_type": "markdown",
      "source": [
        "Que30. Write a code to convert a list of strings into a set."
      ],
      "metadata": {
        "id": "3MLzBSdbBXuj"
      }
    },
    {
      "cell_type": "code",
      "source": [
        "# Create a list of strings\n",
        "string_list = [\"apple\", \"banana\", \"cherry\", \"apple\", \"date\", \"banana\"]\n",
        "\n",
        "# Convert the list to a set\n",
        "string_set = set(string_list)\n",
        "\n",
        "# Print the resulting set\n",
        "print(\"The set created from the list is:\", string_set)"
      ],
      "metadata": {
        "colab": {
          "base_uri": "https://localhost:8080/"
        },
        "id": "MN1Kuqr6BiPh",
        "outputId": "f704cce9-ac8d-4236-836f-e96bfe696077"
      },
      "execution_count": 51,
      "outputs": [
        {
          "output_type": "stream",
          "name": "stdout",
          "text": [
            "The set created from the list is: {'apple', 'banana', 'date', 'cherry'}\n"
          ]
        }
      ]
    }
  ]
}